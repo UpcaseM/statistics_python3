{
 "cells": [
  {
   "cell_type": "markdown",
   "metadata": {},
   "source": [
    "We will refresh the concepts of sampling distributions and interval estimate in this notebook.\n",
    "First we select random samples from a finite population, and then use the samples to estimate population parameters.\n",
    "1. Selecting a Sample\n",
    "2. Sample Distribution\n",
    "3. Compare Sample to Population\n",
    "4. Sampling Error\n",
    "5. Interval Estimation for a Population Mean\n"
   ]
  },
  {
   "cell_type": "markdown",
   "metadata": {},
   "source": [
    "## Selecting a Sample\n",
    "\n",
    "We use the [NBA Players dataset](https://www.kaggle.com/drgilermo/nba-players-stats) to select a sample of players' weight."
   ]
  },
  {
   "cell_type": "code",
   "execution_count": 1,
   "metadata": {},
   "outputs": [],
   "source": [
    "import random\n",
    "import os\n",
    "import math\n",
    "import pandas as pd\n",
    "import numpy as np\n",
    "import scipy.stats as stats\n",
    "import matplotlib.pyplot as plt"
   ]
  },
  {
   "cell_type": "code",
   "execution_count": 2,
   "metadata": {},
   "outputs": [],
   "source": [
    "project_dir = '/mnt/data-ubuntu/Projects/statistics_python3'\n",
    "df = pd.read_csv(project_dir + '/data/nba-players-stats/player_data.csv')"
   ]
  },
  {
   "cell_type": "code",
   "execution_count": 3,
   "metadata": {},
   "outputs": [
    {
     "data": {
      "text/html": [
       "<div>\n",
       "<style scoped>\n",
       "    .dataframe tbody tr th:only-of-type {\n",
       "        vertical-align: middle;\n",
       "    }\n",
       "\n",
       "    .dataframe tbody tr th {\n",
       "        vertical-align: top;\n",
       "    }\n",
       "\n",
       "    .dataframe thead th {\n",
       "        text-align: right;\n",
       "    }\n",
       "</style>\n",
       "<table border=\"1\" class=\"dataframe\">\n",
       "  <thead>\n",
       "    <tr style=\"text-align: right;\">\n",
       "      <th></th>\n",
       "      <th>name</th>\n",
       "      <th>birth_date</th>\n",
       "      <th>weight</th>\n",
       "    </tr>\n",
       "  </thead>\n",
       "  <tbody>\n",
       "    <tr>\n",
       "      <th>0</th>\n",
       "      <td>Alaa Abdelnaby</td>\n",
       "      <td>June 24, 1968</td>\n",
       "      <td>240.0</td>\n",
       "    </tr>\n",
       "    <tr>\n",
       "      <th>1</th>\n",
       "      <td>Zaid Abdul-Aziz</td>\n",
       "      <td>April 7, 1946</td>\n",
       "      <td>235.0</td>\n",
       "    </tr>\n",
       "    <tr>\n",
       "      <th>2</th>\n",
       "      <td>Kareem Abdul-Jabbar</td>\n",
       "      <td>April 16, 1947</td>\n",
       "      <td>225.0</td>\n",
       "    </tr>\n",
       "    <tr>\n",
       "      <th>3</th>\n",
       "      <td>Mahmoud Abdul-Rauf</td>\n",
       "      <td>March 9, 1969</td>\n",
       "      <td>162.0</td>\n",
       "    </tr>\n",
       "    <tr>\n",
       "      <th>4</th>\n",
       "      <td>Tariq Abdul-Wahad</td>\n",
       "      <td>November 3, 1974</td>\n",
       "      <td>223.0</td>\n",
       "    </tr>\n",
       "  </tbody>\n",
       "</table>\n",
       "</div>"
      ],
      "text/plain": [
       "                  name        birth_date  weight\n",
       "0       Alaa Abdelnaby     June 24, 1968   240.0\n",
       "1      Zaid Abdul-Aziz     April 7, 1946   235.0\n",
       "2  Kareem Abdul-Jabbar    April 16, 1947   225.0\n",
       "3   Mahmoud Abdul-Rauf     March 9, 1969   162.0\n",
       "4    Tariq Abdul-Wahad  November 3, 1974   223.0"
      ]
     },
     "execution_count": 3,
     "metadata": {},
     "output_type": "execute_result"
    }
   ],
   "source": [
    "df = df.loc[:, ['name', 'birth_date', 'weight']].drop_duplicates()\n",
    "df.head()"
   ]
  },
  {
   "cell_type": "code",
   "execution_count": 4,
   "metadata": {},
   "outputs": [
    {
     "name": "stdout",
     "output_type": "stream",
     "text": [
      "There are 4550 players, we will take a sample of 45.\n"
     ]
    }
   ],
   "source": [
    "len_sample = int(df.name.count()/100)\n",
    "print(f'There are {df.name.count()} players, we will take a sample of {len_sample}.')"
   ]
  },
  {
   "cell_type": "code",
   "execution_count": 5,
   "metadata": {
    "scrolled": true
   },
   "outputs": [
    {
     "data": {
      "text/plain": [
       "[190.0,\n",
       " 215.0,\n",
       " 185.0,\n",
       " 225.0,\n",
       " 240.0,\n",
       " 205.0,\n",
       " 251.0,\n",
       " 210.0,\n",
       " 185.0,\n",
       " 198.0,\n",
       " 190.0,\n",
       " 175.0,\n",
       " 210.0,\n",
       " 220.0,\n",
       " 245.0,\n",
       " 195.0,\n",
       " 185.0,\n",
       " 240.0,\n",
       " 190.0,\n",
       " 175.0,\n",
       " 220.0,\n",
       " 185.0,\n",
       " 175.0,\n",
       " 190.0,\n",
       " 180.0,\n",
       " 208.0,\n",
       " 170.0,\n",
       " 237.0,\n",
       " 220.0,\n",
       " 193.0,\n",
       " 188.0,\n",
       " 196.0,\n",
       " 253.0,\n",
       " 185.0,\n",
       " 200.0,\n",
       " 240.0,\n",
       " 220.0,\n",
       " 195.0,\n",
       " 212.0,\n",
       " 215.0,\n",
       " 215.0,\n",
       " 225.0,\n",
       " 215.0,\n",
       " 190.0,\n",
       " 155.0]"
      ]
     },
     "execution_count": 5,
     "metadata": {},
     "output_type": "execute_result"
    }
   ],
   "source": [
    "weight_sample = random.sample(df.weight.tolist(), len_sample)\n",
    "weight_sample"
   ]
  },
  {
   "cell_type": "markdown",
   "metadata": {},
   "source": [
    "## Sample Distribution\n",
    "\n",
    "We've selected a sample, let's calculate the sample mean, standard deviation and plot the distribution of the sample."
   ]
  },
  {
   "cell_type": "code",
   "execution_count": 6,
   "metadata": {},
   "outputs": [
    {
     "name": "stdout",
     "output_type": "stream",
     "text": [
      "The sample mean is 204.69, and the sample standard deviation is 23.30.\n"
     ]
    }
   ],
   "source": [
    "## Sample mean\n",
    "s_mean = np.mean(weight_sample)\n",
    "## Sample std\n",
    "s_std = np.std(weight_sample, ddof = 1)\n",
    "print(f'The sample mean is {s_mean:.2f}, and the sample standard deviation is {s_std:.2f}.')"
   ]
  },
  {
   "cell_type": "code",
   "execution_count": 7,
   "metadata": {},
   "outputs": [
    {
     "data": {
      "image/png": "[encoded data removed]",
      "text/plain": [
       "<Figure size 432x288 with 1 Axes>"
      ]
     },
     "metadata": {
      "needs_background": "light"
     },
     "output_type": "display_data"
    }
   ],
   "source": [
    "# Plot the sample distribution\n",
    "x = np.linspace(s_mean-150, s_mean+150, 300)\n",
    "plt.plot(x, stats.norm.pdf(x, s_mean, s_std))\n",
    "plt.xlabel('height')\n",
    "plt.title('Sample Distribution')\n",
    "plt.show()"
   ]
  },
  {
   "cell_type": "markdown",
   "metadata": {},
   "source": [
    "## Compare Sample to Population"
   ]
  },
  {
   "cell_type": "code",
   "execution_count": 8,
   "metadata": {},
   "outputs": [
    {
     "name": "stdout",
     "output_type": "stream",
     "text": [
      "The population mean is 208.91, and the standard deviation is 26.27.\n"
     ]
    }
   ],
   "source": [
    "# Population mean\n",
    "p_mean = np.mean(df.weight)\n",
    "# Population std\n",
    "p_std = np.std(df.weight)\n",
    "print(f'The population mean is {p_mean:.2f}, and the standard deviation is {p_std:.2f}.')"
   ]
  },
  {
   "cell_type": "code",
   "execution_count": 9,
   "metadata": {
    "scrolled": false
   },
   "outputs": [
    {
     "data": {
      "image/png": "[encoded data removed]",
      "text/plain": [
       "<Figure size 432x288 with 1 Axes>"
      ]
     },
     "metadata": {
      "needs_background": "light"
     },
     "output_type": "display_data"
    }
   ],
   "source": [
    "# Plot the sample and population distribution.\n",
    "\n",
    "x = np.linspace(s_mean-150, s_mean+150, 300)\n",
    "plt.plot(x, stats.norm.pdf(x, s_mean, s_std), label = 'sample')\n",
    "plt.plot(x, stats.norm.pdf(x, p_mean, p_std), label = 'population')\n",
    "plt.xlabel('height')\n",
    "plt.title('Sample Distribution')\n",
    "plt.legend()\n",
    "plt.show()"
   ]
  },
  {
   "cell_type": "markdown",
   "metadata": {},
   "source": [
    "## Sampling Error"
   ]
  },
  {
   "cell_type": "markdown",
   "metadata": {},
   "source": [
    "1. Sampling error: the random collection of sample data does not ensure that any single sample will be perfectly representative of the population of interest; when collecting a sample randomly, the data in the sample cannot be expected to be perfectly representative of the population from which it has been taken. Sampling error is unavoidable when collecting a random sample; this is a risk we must accept when we chose to collect a random sample rather than incur the costs associated with taking a census of the population.\n",
    "2. Non-sampling error:\n",
    "    * Coverage error\n",
    "    * Nonresponse error\n",
    "    * Measurement error"
   ]
  },
  {
   "cell_type": "markdown",
   "metadata": {},
   "source": [
    "## Interval Estimation for a Population Mean\n",
    "\n",
    "If the population standard deviation is unknown, we need to use the sample standard deviation to estimate it."
   ]
  },
  {
   "cell_type": "code",
   "execution_count": 11,
   "metadata": {},
   "outputs": [
    {
     "name": "stdout",
     "output_type": "stream",
     "text": [
      "For a significance level 0.9, the interval is between 198.85 and 210.52.\n",
      "For a significance level 0.95, the interval is between 197.69 and 211.69.\n",
      "For a significance level 0.99, the interval is between 195.34 and 214.04.\n"
     ]
    }
   ],
   "source": [
    "sig_levels = [.9, .95, .99]\n",
    "for sl in sig_levels:\n",
    "    sig_l = stats.t.interval(sl,\n",
    "                             len_sample-1, \n",
    "                             loc=np.mean(weight_sample), \n",
    "                             scale=stats.sem(weight_sample))\n",
    "    print(f'For a significance level {sl}, the interval is between {sig_l[0]:.2f} and {sig_l[1]:.2f}.')"
   ]
  },
  {
   "cell_type": "markdown",
   "metadata": {},
   "source": [
    "## Determining the Sample Size\n",
    "\n",
    "We will learn how to choose a sample size large enough to provide a desired margin\n",
    "of error."
   ]
  },
  {
   "cell_type": "code",
   "execution_count": 23,
   "metadata": {},
   "outputs": [
    {
     "name": "stdout",
     "output_type": "stream",
     "text": [
      "If we set a desired margin of error = 5, and a 95% level of confidence, the sample size should be 83.\n"
     ]
    }
   ],
   "source": [
    "# If we set the desired margin of error = 5,\n",
    "# and the 95% level of confidence indicates z = 1.96.\n",
    "n = (1.96**2 * s_std**2)/5**2\n",
    "print(f'If we set a desired margin of error = 5, and a 95% level of confidence, the sample size should be {int(n)}.')"
   ]
  }
 ],
 "metadata": {
  "kernelspec": {
   "display_name": "Python 3",
   "language": "python",
   "name": "python3"
  },
  "language_info": {
   "codemirror_mode": {
    "name": "ipython",
    "version": 3
   },
   "file_extension": ".py",
   "mimetype": "text/x-python",
   "name": "python",
   "nbconvert_exporter": "python",
   "pygments_lexer": "ipython3",
   "version": "3.7.6"
  },
  "toc": {
   "base_numbering": 1,
   "nav_menu": {},
   "number_sections": true,
   "sideBar": true,
   "skip_h1_title": false,
   "title_cell": "Table of Contents",
   "title_sidebar": "Contents",
   "toc_cell": false,
   "toc_position": {},
   "toc_section_display": true,
   "toc_window_display": false
  }
 },
 "nbformat": 4,
 "nbformat_minor": 4
}
