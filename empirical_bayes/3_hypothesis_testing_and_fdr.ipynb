{
 "cells": [
  {
   "cell_type": "markdown",
   "metadata": {},
   "source": [
    "Sometimes, rather than estimating a value, we're looking to answer a yes or no question about each hypothesis, and thus classify them into two groups. For example, suppose we were constructing a Hall of Fame, where we wanted to include all players that have a 2-pointer-percentage greater than .440. We want to include as many players as we can, but we need to be sure that each belongs.\n",
    "\n",
    "The problem of *hypothesis testing* appears whenever we're trying to identify candidates for future study. We need a principled approach to decide which players are worth including, and that can handle multiple testing problems. To solve this, we're going to apply a Bayesian approach to a method usually associated with frequentist statistics, namely **false discovery rate control**.\n",
    "\n",
    "In data science, knowing how to work with posterior predictions for many observations, and come up with a set of candidates for further study, is an essential skill."
   ]
  },
  {
   "cell_type": "markdown",
   "metadata": {},
   "source": [
    "## Setup Dataset"
   ]
  },
  {
   "cell_type": "code",
   "execution_count": 1,
   "metadata": {},
   "outputs": [],
   "source": [
    "import os\n",
    "import math\n",
    "import pandas as pd\n",
    "from scipy.stats import beta\n",
    "import numpy as np\n",
    "import matplotlib.pyplot as plt\n",
    "project_dir = '/mnt/data-ubuntu/Projects/statistics_python3'\n",
    "df = pd.read_csv(project_dir + '/data/nba-players-stats/seasons_stats_pg.csv')"
   ]
  },
  {
   "cell_type": "code",
   "execution_count": 2,
   "metadata": {
    "scrolled": false
   },
   "outputs": [
    {
     "name": "stdout",
     "output_type": "stream",
     "text": [
      "a: 23.05,b: 29.35\n"
     ]
    },
    {
     "data": {
      "text/html": [
       "<div>\n",
       "<style scoped>\n",
       "    .dataframe tbody tr th:only-of-type {\n",
       "        vertical-align: middle;\n",
       "    }\n",
       "\n",
       "    .dataframe tbody tr th {\n",
       "        vertical-align: top;\n",
       "    }\n",
       "\n",
       "    .dataframe thead th {\n",
       "        text-align: right;\n",
       "    }\n",
       "</style>\n",
       "<table border=\"1\" class=\"dataframe\">\n",
       "  <thead>\n",
       "    <tr style=\"text-align: right;\">\n",
       "      <th></th>\n",
       "      <th>Year</th>\n",
       "      <th>Player</th>\n",
       "      <th>Pos</th>\n",
       "      <th>2P</th>\n",
       "      <th>2PA</th>\n",
       "      <th>2P%</th>\n",
       "      <th>2P%_estimate</th>\n",
       "      <th>a_i</th>\n",
       "      <th>b_i</th>\n",
       "      <th>low</th>\n",
       "      <th>high</th>\n",
       "    </tr>\n",
       "  </thead>\n",
       "  <tbody>\n",
       "    <tr>\n",
       "      <th>0</th>\n",
       "      <td>1950.0</td>\n",
       "      <td>Al Cervi*</td>\n",
       "      <td>PG</td>\n",
       "      <td>143.0</td>\n",
       "      <td>431.0</td>\n",
       "      <td>0.331787</td>\n",
       "      <td>0.343504</td>\n",
       "      <td>166.05</td>\n",
       "      <td>317.35</td>\n",
       "      <td>0.301850</td>\n",
       "      <td>0.386385</td>\n",
       "    </tr>\n",
       "    <tr>\n",
       "      <th>1</th>\n",
       "      <td>1950.0</td>\n",
       "      <td>Bob Davies*</td>\n",
       "      <td>PG</td>\n",
       "      <td>317.0</td>\n",
       "      <td>887.0</td>\n",
       "      <td>0.357384</td>\n",
       "      <td>0.361986</td>\n",
       "      <td>340.05</td>\n",
       "      <td>599.35</td>\n",
       "      <td>0.331557</td>\n",
       "      <td>0.392972</td>\n",
       "    </tr>\n",
       "    <tr>\n",
       "      <th>2</th>\n",
       "      <td>1950.0</td>\n",
       "      <td>Dick McGuire*</td>\n",
       "      <td>PG</td>\n",
       "      <td>190.0</td>\n",
       "      <td>563.0</td>\n",
       "      <td>0.337478</td>\n",
       "      <td>0.346198</td>\n",
       "      <td>213.05</td>\n",
       "      <td>402.35</td>\n",
       "      <td>0.309128</td>\n",
       "      <td>0.384214</td>\n",
       "    </tr>\n",
       "    <tr>\n",
       "      <th>3</th>\n",
       "      <td>1950.0</td>\n",
       "      <td>Fred Scolari</td>\n",
       "      <td>PG</td>\n",
       "      <td>312.0</td>\n",
       "      <td>910.0</td>\n",
       "      <td>0.342857</td>\n",
       "      <td>0.348140</td>\n",
       "      <td>335.05</td>\n",
       "      <td>627.35</td>\n",
       "      <td>0.318365</td>\n",
       "      <td>0.378513</td>\n",
       "    </tr>\n",
       "    <tr>\n",
       "      <th>4</th>\n",
       "      <td>1950.0</td>\n",
       "      <td>George Senesky</td>\n",
       "      <td>PG</td>\n",
       "      <td>227.0</td>\n",
       "      <td>709.0</td>\n",
       "      <td>0.320169</td>\n",
       "      <td>0.328408</td>\n",
       "      <td>250.05</td>\n",
       "      <td>511.35</td>\n",
       "      <td>0.295510</td>\n",
       "      <td>0.362160</td>\n",
       "    </tr>\n",
       "  </tbody>\n",
       "</table>\n",
       "</div>"
      ],
      "text/plain": [
       "     Year          Player Pos     2P    2PA       2P%  2P%_estimate     a_i  \\\n",
       "0  1950.0       Al Cervi*  PG  143.0  431.0  0.331787      0.343504  166.05   \n",
       "1  1950.0     Bob Davies*  PG  317.0  887.0  0.357384      0.361986  340.05   \n",
       "2  1950.0   Dick McGuire*  PG  190.0  563.0  0.337478      0.346198  213.05   \n",
       "3  1950.0    Fred Scolari  PG  312.0  910.0  0.342857      0.348140  335.05   \n",
       "4  1950.0  George Senesky  PG  227.0  709.0  0.320169      0.328408  250.05   \n",
       "\n",
       "      b_i       low      high  \n",
       "0  317.35  0.301850  0.386385  \n",
       "1  599.35  0.331557  0.392972  \n",
       "2  402.35  0.309128  0.384214  \n",
       "3  627.35  0.318365  0.378513  \n",
       "4  511.35  0.295510  0.362160  "
      ]
     },
     "execution_count": 2,
     "metadata": {},
     "output_type": "execute_result"
    }
   ],
   "source": [
    "data = df.loc[:,'2P%'][(df.loc[:,'2P%']<1) & (df.loc[:,'2P%']>0)]\n",
    "beta_fit = beta.fit(data = data, floc=0, fscale=1)\n",
    "a = round(beta_fit[0], 2)\n",
    "b = round(beta_fit[1], 2)\n",
    "print(f'a: {a},b: {b}')\n",
    "df.head()"
   ]
  },
  {
   "cell_type": "code",
   "execution_count": 3,
   "metadata": {},
   "outputs": [
    {
     "data": {
      "text/html": [
       "<div>\n",
       "<style scoped>\n",
       "    .dataframe tbody tr th:only-of-type {\n",
       "        vertical-align: middle;\n",
       "    }\n",
       "\n",
       "    .dataframe tbody tr th {\n",
       "        vertical-align: top;\n",
       "    }\n",
       "\n",
       "    .dataframe thead th {\n",
       "        text-align: right;\n",
       "    }\n",
       "</style>\n",
       "<table border=\"1\" class=\"dataframe\">\n",
       "  <thead>\n",
       "    <tr style=\"text-align: right;\">\n",
       "      <th></th>\n",
       "      <th>Player</th>\n",
       "      <th>2P</th>\n",
       "      <th>2PA</th>\n",
       "      <th>2P%_estimate</th>\n",
       "      <th>a_i</th>\n",
       "      <th>b_i</th>\n",
       "    </tr>\n",
       "  </thead>\n",
       "  <tbody>\n",
       "    <tr>\n",
       "      <th>3700</th>\n",
       "      <td>C.J. Watson</td>\n",
       "      <td>64.0</td>\n",
       "      <td>143.0</td>\n",
       "      <td>0.445496</td>\n",
       "      <td>87.05</td>\n",
       "      <td>108.35</td>\n",
       "    </tr>\n",
       "  </tbody>\n",
       "</table>\n",
       "</div>"
      ],
      "text/plain": [
       "           Player    2P    2PA  2P%_estimate    a_i     b_i\n",
       "3700  C.J. Watson  64.0  143.0      0.445496  87.05  108.35"
      ]
     },
     "execution_count": 3,
     "metadata": {},
     "output_type": "execute_result"
    }
   ],
   "source": [
    "# Based on the performance of C.J. Watson in the 2017,\n",
    "# should he be in the Hall of Fame?\n",
    "\n",
    "df_temp = df \\\n",
    "    .query('Year == 2017 & Player == \"C.J. Watson\"') \\\n",
    "    .loc[:, ['Player', '2P', '2PA', '2P%_estimate', 'a_i', 'b_i']]\n",
    "\n",
    "df_temp"
   ]
  },
  {
   "cell_type": "markdown",
   "metadata": {},
   "source": [
    "## Calculate Posterior Error Probabilities for C.J. Watson"
   ]
  },
  {
   "cell_type": "code",
   "execution_count": 4,
   "metadata": {
    "scrolled": false
   },
   "outputs": [
    {
     "data": {
      "image/png": "[encoded data removed]",
      "text/plain": [
       "<Figure size 864x576 with 1 Axes>"
      ]
     },
     "metadata": {
      "needs_background": "light"
     },
     "output_type": "display_data"
    }
   ],
   "source": [
    "# Plot the posterior distribution for C.J. Watson\n",
    "fig,ax = plt.subplots(figsize=(12, 8))\n",
    "x = np.linspace(0,1,100)\n",
    "a_i = df_temp.loc[:,'a_i'].values[0]\n",
    "b_i = df_temp.loc[:,'b_i'].values[0]\n",
    "df_temp = pd.DataFrame({'Probability': x, f'a = {a_i}, b = {b_i}': beta.pdf(x, a_i, b_i)})\n",
    "df_temp.set_index('Probability') \\\n",
    "    .plot(ax = ax)\n",
    "\n",
    "# Plot the Mean\n",
    "y_l = np.linspace(0, 12, 100)\n",
    "x_l = [(a/(a+b))] * len(y_l)\n",
    "plt.plot(x_l, y_l, linestyle='--',color = 'red', label='Mean')\n",
    "\n",
    "# Plot the shade\n",
    "plt.fill_between(x, beta.pdf(x, a_i, b_i), where=x<=(a/(a+b)), alpha=0.2, color='red')\n",
    "plt.ylabel('Density of Beta')\n",
    "plt.xlabel('Probliity')\n",
    "plt.title('Posterior Distribution for C.J. Watson with Estimated 2P Mean')\n",
    "legend = ax.legend(loc='upper right')\n",
    "plt.show()"
   ]
  },
  {
   "cell_type": "markdown",
   "metadata": {},
   "source": [
    "We can see that there is a nonzero probability (shaded) that his true probability of getting goals is less than .44. We can calculate this error probability with the cumulative\n",
    "distribution function (CDF) of the beta distribution.\n",
    "\n",
    "This probability that a player doesn't belong in the Hall of Fame is called the **Posterior Error Probability**.\n",
    "\n",
    "For most players, it's almost certain that they don't belong in the Hall of Fame: we know that their 2P% estimate are far below .44. If they were included, it is almost certain that they would be an error. \n",
    "\n",
    "In the middle are the borderline players: the ones where we're not sure, such as C.J. Watson. And down there close to 0 are the rare but proud players who we're (effectively) certain belong in the hall of fame."
   ]
  },
  {
   "cell_type": "code",
   "execution_count": 5,
   "metadata": {
    "scrolled": true
   },
   "outputs": [
    {
     "name": "stdout",
     "output_type": "stream",
     "text": [
      "The PEP for C.J. Watson is 0.4393947027626849.\n"
     ]
    }
   ],
   "source": [
    "print(f'The PEP for C.J. Watson is {beta.cdf(a/(a+b), a_i, b_i)}.')"
   ]
  },
  {
   "cell_type": "code",
   "execution_count": 6,
   "metadata": {},
   "outputs": [
    {
     "data": {
      "text/html": [
       "<div>\n",
       "<style scoped>\n",
       "    .dataframe tbody tr th:only-of-type {\n",
       "        vertical-align: middle;\n",
       "    }\n",
       "\n",
       "    .dataframe tbody tr th {\n",
       "        vertical-align: top;\n",
       "    }\n",
       "\n",
       "    .dataframe thead th {\n",
       "        text-align: right;\n",
       "    }\n",
       "</style>\n",
       "<table border=\"1\" class=\"dataframe\">\n",
       "  <thead>\n",
       "    <tr style=\"text-align: right;\">\n",
       "      <th></th>\n",
       "      <th>Year</th>\n",
       "      <th>Player</th>\n",
       "      <th>Pos</th>\n",
       "      <th>2P</th>\n",
       "      <th>2PA</th>\n",
       "      <th>2P%</th>\n",
       "      <th>2P%_estimate</th>\n",
       "      <th>a_i</th>\n",
       "      <th>b_i</th>\n",
       "      <th>low</th>\n",
       "      <th>high</th>\n",
       "      <th>PEP</th>\n",
       "    </tr>\n",
       "  </thead>\n",
       "  <tbody>\n",
       "    <tr>\n",
       "      <th>1246</th>\n",
       "      <td>1988.0</td>\n",
       "      <td>John Stockton*</td>\n",
       "      <td>PG</td>\n",
       "      <td>430.0</td>\n",
       "      <td>724.0</td>\n",
       "      <td>0.593923</td>\n",
       "      <td>0.583527</td>\n",
       "      <td>453.05</td>\n",
       "      <td>323.35</td>\n",
       "      <td>0.548679</td>\n",
       "      <td>0.617967</td>\n",
       "      <td>4.987049e-16</td>\n",
       "    </tr>\n",
       "    <tr>\n",
       "      <th>1811</th>\n",
       "      <td>1996.0</td>\n",
       "      <td>Anfernee Hardaway</td>\n",
       "      <td>PG</td>\n",
       "      <td>534.0</td>\n",
       "      <td>932.0</td>\n",
       "      <td>0.572961</td>\n",
       "      <td>0.565878</td>\n",
       "      <td>557.05</td>\n",
       "      <td>427.35</td>\n",
       "      <td>0.534811</td>\n",
       "      <td>0.596690</td>\n",
       "      <td>1.130444e-15</td>\n",
       "    </tr>\n",
       "    <tr>\n",
       "      <th>1082</th>\n",
       "      <td>1985.0</td>\n",
       "      <td>Magic Johnson*</td>\n",
       "      <td>PG</td>\n",
       "      <td>497.0</td>\n",
       "      <td>862.0</td>\n",
       "      <td>0.576566</td>\n",
       "      <td>0.568734</td>\n",
       "      <td>520.05</td>\n",
       "      <td>394.35</td>\n",
       "      <td>0.536516</td>\n",
       "      <td>0.600666</td>\n",
       "      <td>2.803071e-15</td>\n",
       "    </tr>\n",
       "    <tr>\n",
       "      <th>2793</th>\n",
       "      <td>2006.0</td>\n",
       "      <td>Tony Parker</td>\n",
       "      <td>PG</td>\n",
       "      <td>612.0</td>\n",
       "      <td>1100.0</td>\n",
       "      <td>0.556364</td>\n",
       "      <td>0.551067</td>\n",
       "      <td>635.05</td>\n",
       "      <td>517.35</td>\n",
       "      <td>0.522284</td>\n",
       "      <td>0.579683</td>\n",
       "      <td>1.902598e-14</td>\n",
       "    </tr>\n",
       "    <tr>\n",
       "      <th>1022</th>\n",
       "      <td>1984.0</td>\n",
       "      <td>Magic Johnson*</td>\n",
       "      <td>PG</td>\n",
       "      <td>435.0</td>\n",
       "      <td>751.0</td>\n",
       "      <td>0.579228</td>\n",
       "      <td>0.570139</td>\n",
       "      <td>458.05</td>\n",
       "      <td>345.35</td>\n",
       "      <td>0.535772</td>\n",
       "      <td>0.604176</td>\n",
       "      <td>6.652018e-14</td>\n",
       "    </tr>\n",
       "  </tbody>\n",
       "</table>\n",
       "</div>"
      ],
      "text/plain": [
       "        Year             Player Pos     2P     2PA       2P%  2P%_estimate  \\\n",
       "1246  1988.0     John Stockton*  PG  430.0   724.0  0.593923      0.583527   \n",
       "1811  1996.0  Anfernee Hardaway  PG  534.0   932.0  0.572961      0.565878   \n",
       "1082  1985.0     Magic Johnson*  PG  497.0   862.0  0.576566      0.568734   \n",
       "2793  2006.0        Tony Parker  PG  612.0  1100.0  0.556364      0.551067   \n",
       "1022  1984.0     Magic Johnson*  PG  435.0   751.0  0.579228      0.570139   \n",
       "\n",
       "         a_i     b_i       low      high           PEP  \n",
       "1246  453.05  323.35  0.548679  0.617967  4.987049e-16  \n",
       "1811  557.05  427.35  0.534811  0.596690  1.130444e-15  \n",
       "1082  520.05  394.35  0.536516  0.600666  2.803071e-15  \n",
       "2793  635.05  517.35  0.522284  0.579683  1.902598e-14  \n",
       "1022  458.05  345.35  0.535772  0.604176  6.652018e-14  "
      ]
     },
     "execution_count": 6,
     "metadata": {},
     "output_type": "execute_result"
    }
   ],
   "source": [
    "# Calculate the Posterior Error Probability for all players\n",
    "# Note the data is grouped by year and player. \n",
    "# So, for example, if the same player is within the threshold in two years, \n",
    "# the player will be in the Hall of Fame twice.\n",
    "df['PEP'] = df.apply(lambda x: beta.cdf(a/(a+b), x.a_i, x.b_i), axis = 1)\n",
    "df.sort_values('PEP', inplace = True)\n",
    "df.head()"
   ]
  },
  {
   "cell_type": "markdown",
   "metadata": {},
   "source": [
    "## False Discovery Rate\n",
    "\n",
    "Now we want to set some **threshold** for inclusion in our Hall of Fame. This criterion is up to us: what kind of goal do we want to set? There are many options, but I'll propose one common in statistics: let's try to include as many players as possible, while ensuring that no more than 5% of the Hall of Fame was mistakenly included. \n",
    "\n",
    "This criterion is called **false discovery rate control**. It's particularly relevant in scientific studies, where we might want to come up with a set of candidates for future study. There's nothing special about 5%: if we wanted to be more strict, we could choose the same policy, but change our desired FDR to 1% or .1%. Similarly, if we wanted a broader set of candidates to study, we could set an FDR of 10% or 20%."
   ]
  },
  {
   "cell_type": "code",
   "execution_count": 7,
   "metadata": {
    "scrolled": true
   },
   "outputs": [
    {
     "data": {
      "text/plain": [
       "0.05129778224541489"
      ]
     },
     "execution_count": 7,
     "metadata": {},
     "output_type": "execute_result"
    }
   ],
   "source": [
    "# Let's see we chose to take the top 1300 rows for our Hall of Fame. \n",
    "df_top = df.iloc[:1300, :]\n",
    "\n",
    "# Calculate the expected value of the total number of false positives.\n",
    "sum(df_top.PEP)/1300"
   ]
  },
  {
   "cell_type": "markdown",
   "metadata": {},
   "source": [
    "If we chose the top 1300 rows, we are pretty close to our target of 5%."
   ]
  },
  {
   "cell_type": "markdown",
   "metadata": {},
   "source": [
    "## Q-values\n",
    "\n",
    "We could experiment with many thresholds to get our desired FDR for each. But\n",
    "it's even easier just to compute them all thresholds at once, by computing the\n",
    "cumulative mean of all the (sorted) posterior error probabilities. This cumulative mean is called a **q-value**."
   ]
  },
  {
   "cell_type": "code",
   "execution_count": 8,
   "metadata": {},
   "outputs": [
    {
     "data": {
      "text/html": [
       "<div>\n",
       "<style scoped>\n",
       "    .dataframe tbody tr th:only-of-type {\n",
       "        vertical-align: middle;\n",
       "    }\n",
       "\n",
       "    .dataframe tbody tr th {\n",
       "        vertical-align: top;\n",
       "    }\n",
       "\n",
       "    .dataframe thead th {\n",
       "        text-align: right;\n",
       "    }\n",
       "</style>\n",
       "<table border=\"1\" class=\"dataframe\">\n",
       "  <thead>\n",
       "    <tr style=\"text-align: right;\">\n",
       "      <th></th>\n",
       "      <th>Year</th>\n",
       "      <th>Player</th>\n",
       "      <th>Pos</th>\n",
       "      <th>2P</th>\n",
       "      <th>2PA</th>\n",
       "      <th>2P%</th>\n",
       "      <th>2P%_estimate</th>\n",
       "      <th>a_i</th>\n",
       "      <th>b_i</th>\n",
       "      <th>low</th>\n",
       "      <th>high</th>\n",
       "      <th>PEP</th>\n",
       "      <th>q_value</th>\n",
       "    </tr>\n",
       "  </thead>\n",
       "  <tbody>\n",
       "    <tr>\n",
       "      <th>1246</th>\n",
       "      <td>1988.0</td>\n",
       "      <td>John Stockton*</td>\n",
       "      <td>PG</td>\n",
       "      <td>430.0</td>\n",
       "      <td>724.0</td>\n",
       "      <td>0.593923</td>\n",
       "      <td>0.583527</td>\n",
       "      <td>453.05</td>\n",
       "      <td>323.35</td>\n",
       "      <td>0.548679</td>\n",
       "      <td>0.617967</td>\n",
       "      <td>4.987049e-16</td>\n",
       "      <td>4.987049e-16</td>\n",
       "    </tr>\n",
       "    <tr>\n",
       "      <th>1811</th>\n",
       "      <td>1996.0</td>\n",
       "      <td>Anfernee Hardaway</td>\n",
       "      <td>PG</td>\n",
       "      <td>534.0</td>\n",
       "      <td>932.0</td>\n",
       "      <td>0.572961</td>\n",
       "      <td>0.565878</td>\n",
       "      <td>557.05</td>\n",
       "      <td>427.35</td>\n",
       "      <td>0.534811</td>\n",
       "      <td>0.596690</td>\n",
       "      <td>1.130444e-15</td>\n",
       "      <td>8.145743e-16</td>\n",
       "    </tr>\n",
       "    <tr>\n",
       "      <th>1082</th>\n",
       "      <td>1985.0</td>\n",
       "      <td>Magic Johnson*</td>\n",
       "      <td>PG</td>\n",
       "      <td>497.0</td>\n",
       "      <td>862.0</td>\n",
       "      <td>0.576566</td>\n",
       "      <td>0.568734</td>\n",
       "      <td>520.05</td>\n",
       "      <td>394.35</td>\n",
       "      <td>0.536516</td>\n",
       "      <td>0.600666</td>\n",
       "      <td>2.803071e-15</td>\n",
       "      <td>1.477407e-15</td>\n",
       "    </tr>\n",
       "    <tr>\n",
       "      <th>2793</th>\n",
       "      <td>2006.0</td>\n",
       "      <td>Tony Parker</td>\n",
       "      <td>PG</td>\n",
       "      <td>612.0</td>\n",
       "      <td>1100.0</td>\n",
       "      <td>0.556364</td>\n",
       "      <td>0.551067</td>\n",
       "      <td>635.05</td>\n",
       "      <td>517.35</td>\n",
       "      <td>0.522284</td>\n",
       "      <td>0.579683</td>\n",
       "      <td>1.902598e-14</td>\n",
       "      <td>5.864550e-15</td>\n",
       "    </tr>\n",
       "    <tr>\n",
       "      <th>1022</th>\n",
       "      <td>1984.0</td>\n",
       "      <td>Magic Johnson*</td>\n",
       "      <td>PG</td>\n",
       "      <td>435.0</td>\n",
       "      <td>751.0</td>\n",
       "      <td>0.579228</td>\n",
       "      <td>0.570139</td>\n",
       "      <td>458.05</td>\n",
       "      <td>345.35</td>\n",
       "      <td>0.535772</td>\n",
       "      <td>0.604176</td>\n",
       "      <td>6.652018e-14</td>\n",
       "      <td>1.799568e-14</td>\n",
       "    </tr>\n",
       "  </tbody>\n",
       "</table>\n",
       "</div>"
      ],
      "text/plain": [
       "        Year             Player Pos     2P     2PA       2P%  2P%_estimate  \\\n",
       "1246  1988.0     John Stockton*  PG  430.0   724.0  0.593923      0.583527   \n",
       "1811  1996.0  Anfernee Hardaway  PG  534.0   932.0  0.572961      0.565878   \n",
       "1082  1985.0     Magic Johnson*  PG  497.0   862.0  0.576566      0.568734   \n",
       "2793  2006.0        Tony Parker  PG  612.0  1100.0  0.556364      0.551067   \n",
       "1022  1984.0     Magic Johnson*  PG  435.0   751.0  0.579228      0.570139   \n",
       "\n",
       "         a_i     b_i       low      high           PEP       q_value  \n",
       "1246  453.05  323.35  0.548679  0.617967  4.987049e-16  4.987049e-16  \n",
       "1811  557.05  427.35  0.534811  0.596690  1.130444e-15  8.145743e-16  \n",
       "1082  520.05  394.35  0.536516  0.600666  2.803071e-15  1.477407e-15  \n",
       "2793  635.05  517.35  0.522284  0.579683  1.902598e-14  5.864550e-15  \n",
       "1022  458.05  345.35  0.535772  0.604176  6.652018e-14  1.799568e-14  "
      ]
     },
     "execution_count": 8,
     "metadata": {},
     "output_type": "execute_result"
    }
   ],
   "source": [
    "df['q_value'] = df.loc[:, 'PEP'].expanding().mean()\n",
    "df.head()"
   ]
  },
  {
   "cell_type": "code",
   "execution_count": 9,
   "metadata": {},
   "outputs": [
    {
     "data": {
      "text/plain": [
       "1289"
      ]
     },
     "execution_count": 9,
     "metadata": {},
     "output_type": "execute_result"
    }
   ],
   "source": [
    "df[df['q_value']<=.05].count()[0]"
   ]
  },
  {
   "cell_type": "code",
   "execution_count": 10,
   "metadata": {},
   "outputs": [
    {
     "name": "stdout",
     "output_type": "stream",
     "text": [
      "There are 1289 rows will be in the Hall of Fame, if we set q value at 0.05.\n"
     ]
    }
   ],
   "source": [
    "q = 0.05\n",
    "total_num = df[df['q_value']<=.05].count()[0]\n",
    "print(f'There are {total_num} rows will be in the Hall of Fame, if we set q value at {q}.')"
   ]
  },
  {
   "cell_type": "code",
   "execution_count": 11,
   "metadata": {
    "scrolled": false
   },
   "outputs": [
    {
     "data": {
      "image/png": "[encoded data removed]",
      "text/plain": [
       "<Figure size 576x576 with 1 Axes>"
      ]
     },
     "metadata": {
      "needs_background": "light"
     },
     "output_type": "display_data"
    }
   ],
   "source": [
    "# Plot the q-value threshold.\n",
    "fig, ax = plt.subplots(figsize = (8, 8))\n",
    "df['bins'] = pd.cut(df.loc[:, 'q_value'], 20)\n",
    "df_temp = df \\\n",
    "    .groupby('bins') \\\n",
    "    .count() \\\n",
    "    .loc[:,'q_value'] \\\n",
    "    .cumsum()\n",
    "\n",
    "df_temp \\\n",
    "    .plot()\n",
    "\n",
    "# positions of each tick, relative to the indices of the x-values\n",
    "pos = list(range(21))\n",
    "ax.set_xticks(pos)\n",
    "\n",
    "# labels\n",
    "ax.set_xticklabels([round(p,2) for p in np.arange(0, 1.05, 0.05)])\n",
    "\n",
    "plt.xlim(0, 10)\n",
    "plt.title('q-value threshold')\n",
    "plt.show()"
   ]
  },
  {
   "cell_type": "markdown",
   "metadata": {},
   "source": [
    "It's useful to look at how many rows would be included at various q-value thresholds. This shows that you could include 1800 rows in the Hall of Fame, but at that point you'd expect that more than 20% of them would be incorrectly included. On the other side, you could create a hall of 1000 players and be very confident that all of them have a batting probability of .44."
   ]
  }
 ],
 "metadata": {
  "kernelspec": {
   "display_name": "Python 3",
   "language": "python",
   "name": "python3"
  },
  "language_info": {
   "codemirror_mode": {
    "name": "ipython",
    "version": 3
   },
   "file_extension": ".py",
   "mimetype": "text/x-python",
   "name": "python",
   "nbconvert_exporter": "python",
   "pygments_lexer": "ipython3",
   "version": "3.7.6"
  },
  "toc": {
   "base_numbering": 1,
   "nav_menu": {},
   "number_sections": true,
   "sideBar": true,
   "skip_h1_title": false,
   "title_cell": "Table of Contents",
   "title_sidebar": "Contents",
   "toc_cell": false,
   "toc_position": {},
   "toc_section_display": true,
   "toc_window_display": false
  }
 },
 "nbformat": 4,
 "nbformat_minor": 4
}
