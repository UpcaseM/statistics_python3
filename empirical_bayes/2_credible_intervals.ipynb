{
 "cells": [
  {
   "cell_type": "markdown",
   "metadata": {},
   "source": [
    "We explored the method of empirical Bayes estimation for all basketball players, even for the ones with 0 goals out of 1 attempt. But we can't only reply on a single value for each player. We would want to know how much uncertainty is present in our estimate. \n",
    "\n",
    "In many cases, statisticians would use a binomial proportion confidence interval, but this doesn't bring in information from our whole dataset. We will compute a credible interval which is similar to the confidence intervals but improved one."
   ]
  },
  {
   "cell_type": "code",
   "execution_count": 1,
   "metadata": {},
   "outputs": [],
   "source": [
    "import os\n",
    "import math\n",
    "import pandas as pd\n",
    "from scipy.stats import beta\n",
    "import numpy as np\n",
    "import matplotlib.pyplot as plt"
   ]
  },
  {
   "cell_type": "code",
   "execution_count": 2,
   "metadata": {},
   "outputs": [],
   "source": [
    "project_dir = '/mnt/data-ubuntu/Projects/statistics_python3'\n",
    "df = pd.read_csv(project_dir + '/data/nba-players-stats/seasons_stats_pg.csv')"
   ]
  },
  {
   "cell_type": "code",
   "execution_count": 3,
   "metadata": {},
   "outputs": [
    {
     "data": {
      "text/plain": [
       "0       0.322581\n",
       "1       0.331787\n",
       "2       0.357384\n",
       "3       0.329600\n",
       "4       0.311938\n",
       "          ...   \n",
       "4643    0.486339\n",
       "4644    0.485294\n",
       "4645    0.489362\n",
       "4646    0.453488\n",
       "4647    0.428571\n",
       "Name: 2P%, Length: 4546, dtype: float64"
      ]
     },
     "execution_count": 3,
     "metadata": {},
     "output_type": "execute_result"
    }
   ],
   "source": [
    "df.loc[:,'2P%'][(df.loc[:,'2P%']<1) & (df.loc[:,'2P%']>0)]"
   ]
  },
  {
   "cell_type": "code",
   "execution_count": 4,
   "metadata": {},
   "outputs": [
    {
     "name": "stdout",
     "output_type": "stream",
     "text": [
      "a: 20.52,b: 26.41\n"
     ]
    },
    {
     "data": {
      "text/html": [
       "<div>\n",
       "<style scoped>\n",
       "    .dataframe tbody tr th:only-of-type {\n",
       "        vertical-align: middle;\n",
       "    }\n",
       "\n",
       "    .dataframe tbody tr th {\n",
       "        vertical-align: top;\n",
       "    }\n",
       "\n",
       "    .dataframe thead th {\n",
       "        text-align: right;\n",
       "    }\n",
       "</style>\n",
       "<table border=\"1\" class=\"dataframe\">\n",
       "  <thead>\n",
       "    <tr style=\"text-align: right;\">\n",
       "      <th></th>\n",
       "      <th>Unnamed: 0</th>\n",
       "      <th>Year</th>\n",
       "      <th>Player</th>\n",
       "      <th>Pos</th>\n",
       "      <th>2P</th>\n",
       "      <th>2PA</th>\n",
       "      <th>2P%</th>\n",
       "      <th>2P%_estimate</th>\n",
       "    </tr>\n",
       "  </thead>\n",
       "  <tbody>\n",
       "    <tr>\n",
       "      <th>0</th>\n",
       "      <td>11</td>\n",
       "      <td>1950.0</td>\n",
       "      <td>Nelson Bobb</td>\n",
       "      <td>PG</td>\n",
       "      <td>80.0</td>\n",
       "      <td>248.0</td>\n",
       "      <td>0.322581</td>\n",
       "      <td>0.340827</td>\n",
       "    </tr>\n",
       "    <tr>\n",
       "      <th>1</th>\n",
       "      <td>32</td>\n",
       "      <td>1950.0</td>\n",
       "      <td>Al Cervi*</td>\n",
       "      <td>PG</td>\n",
       "      <td>143.0</td>\n",
       "      <td>431.0</td>\n",
       "      <td>0.331787</td>\n",
       "      <td>0.342142</td>\n",
       "    </tr>\n",
       "    <tr>\n",
       "      <th>2</th>\n",
       "      <td>49</td>\n",
       "      <td>1950.0</td>\n",
       "      <td>Bob Davies*</td>\n",
       "      <td>PG</td>\n",
       "      <td>317.0</td>\n",
       "      <td>887.0</td>\n",
       "      <td>0.357384</td>\n",
       "      <td>0.361398</td>\n",
       "    </tr>\n",
       "    <tr>\n",
       "      <th>3</th>\n",
       "      <td>108</td>\n",
       "      <td>1950.0</td>\n",
       "      <td>Red Holzman*</td>\n",
       "      <td>PG</td>\n",
       "      <td>206.0</td>\n",
       "      <td>625.0</td>\n",
       "      <td>0.329600</td>\n",
       "      <td>0.337118</td>\n",
       "    </tr>\n",
       "    <tr>\n",
       "      <th>4</th>\n",
       "      <td>114</td>\n",
       "      <td>1950.0</td>\n",
       "      <td>Ralph Johnson</td>\n",
       "      <td>PG</td>\n",
       "      <td>243.0</td>\n",
       "      <td>779.0</td>\n",
       "      <td>0.311938</td>\n",
       "      <td>0.319059</td>\n",
       "    </tr>\n",
       "  </tbody>\n",
       "</table>\n",
       "</div>"
      ],
      "text/plain": [
       "   Unnamed: 0    Year         Player Pos     2P    2PA       2P%  2P%_estimate\n",
       "0          11  1950.0    Nelson Bobb  PG   80.0  248.0  0.322581      0.340827\n",
       "1          32  1950.0      Al Cervi*  PG  143.0  431.0  0.331787      0.342142\n",
       "2          49  1950.0    Bob Davies*  PG  317.0  887.0  0.357384      0.361398\n",
       "3         108  1950.0   Red Holzman*  PG  206.0  625.0  0.329600      0.337118\n",
       "4         114  1950.0  Ralph Johnson  PG  243.0  779.0  0.311938      0.319059"
      ]
     },
     "execution_count": 4,
     "metadata": {},
     "output_type": "execute_result"
    }
   ],
   "source": [
    "data = df.loc[:,'2P%'][(df.loc[:,'2P%']<1) & (df.loc[:,'2P%']>0)]\n",
    "beta_fit = beta.fit(data = data, floc=0, fscale=1)\n",
    "a = round(beta_fit[0], 2)\n",
    "b = round(beta_fit[1], 2)\n",
    "print(f'a: {a},b: {b}')\n",
    "df.head()"
   ]
  },
  {
   "cell_type": "markdown",
   "metadata": {},
   "source": [
    "## Calculate the credible interval\n",
    "We start with a prior distribution, then update to a\n",
    "posterior distribution(Beta Distribution). \n",
    "$B(a + hits, b + misses)$. The math can be found [here](https://en.wikipedia.org/wiki/Conjugate_prior#Example)"
   ]
  },
  {
   "cell_type": "code",
   "execution_count": 5,
   "metadata": {},
   "outputs": [
    {
     "data": {
      "text/html": [
       "<div>\n",
       "<style scoped>\n",
       "    .dataframe tbody tr th:only-of-type {\n",
       "        vertical-align: middle;\n",
       "    }\n",
       "\n",
       "    .dataframe tbody tr th {\n",
       "        vertical-align: top;\n",
       "    }\n",
       "\n",
       "    .dataframe thead th {\n",
       "        text-align: right;\n",
       "    }\n",
       "</style>\n",
       "<table border=\"1\" class=\"dataframe\">\n",
       "  <thead>\n",
       "    <tr style=\"text-align: right;\">\n",
       "      <th></th>\n",
       "      <th>Unnamed: 0</th>\n",
       "      <th>Year</th>\n",
       "      <th>Player</th>\n",
       "      <th>Pos</th>\n",
       "      <th>2P</th>\n",
       "      <th>2PA</th>\n",
       "      <th>2P%</th>\n",
       "      <th>2P%_estimate</th>\n",
       "      <th>a_i</th>\n",
       "      <th>b_i</th>\n",
       "      <th>low</th>\n",
       "      <th>high</th>\n",
       "    </tr>\n",
       "  </thead>\n",
       "  <tbody>\n",
       "    <tr>\n",
       "      <th>0</th>\n",
       "      <td>11</td>\n",
       "      <td>1950.0</td>\n",
       "      <td>Nelson Bobb</td>\n",
       "      <td>PG</td>\n",
       "      <td>80.0</td>\n",
       "      <td>248.0</td>\n",
       "      <td>0.322581</td>\n",
       "      <td>0.340827</td>\n",
       "      <td>100.52</td>\n",
       "      <td>194.41</td>\n",
       "      <td>0.287892</td>\n",
       "      <td>0.395806</td>\n",
       "    </tr>\n",
       "    <tr>\n",
       "      <th>1</th>\n",
       "      <td>32</td>\n",
       "      <td>1950.0</td>\n",
       "      <td>Al Cervi*</td>\n",
       "      <td>PG</td>\n",
       "      <td>143.0</td>\n",
       "      <td>431.0</td>\n",
       "      <td>0.331787</td>\n",
       "      <td>0.342142</td>\n",
       "      <td>163.52</td>\n",
       "      <td>314.41</td>\n",
       "      <td>0.300301</td>\n",
       "      <td>0.385235</td>\n",
       "    </tr>\n",
       "    <tr>\n",
       "      <th>2</th>\n",
       "      <td>49</td>\n",
       "      <td>1950.0</td>\n",
       "      <td>Bob Davies*</td>\n",
       "      <td>PG</td>\n",
       "      <td>317.0</td>\n",
       "      <td>887.0</td>\n",
       "      <td>0.357384</td>\n",
       "      <td>0.361398</td>\n",
       "      <td>337.52</td>\n",
       "      <td>596.41</td>\n",
       "      <td>0.330893</td>\n",
       "      <td>0.392465</td>\n",
       "    </tr>\n",
       "    <tr>\n",
       "      <th>3</th>\n",
       "      <td>108</td>\n",
       "      <td>1950.0</td>\n",
       "      <td>Red Holzman*</td>\n",
       "      <td>PG</td>\n",
       "      <td>206.0</td>\n",
       "      <td>625.0</td>\n",
       "      <td>0.329600</td>\n",
       "      <td>0.337118</td>\n",
       "      <td>226.52</td>\n",
       "      <td>445.41</td>\n",
       "      <td>0.301874</td>\n",
       "      <td>0.373281</td>\n",
       "    </tr>\n",
       "    <tr>\n",
       "      <th>4</th>\n",
       "      <td>114</td>\n",
       "      <td>1950.0</td>\n",
       "      <td>Ralph Johnson</td>\n",
       "      <td>PG</td>\n",
       "      <td>243.0</td>\n",
       "      <td>779.0</td>\n",
       "      <td>0.311938</td>\n",
       "      <td>0.319059</td>\n",
       "      <td>263.52</td>\n",
       "      <td>562.41</td>\n",
       "      <td>0.287715</td>\n",
       "      <td>0.351232</td>\n",
       "    </tr>\n",
       "  </tbody>\n",
       "</table>\n",
       "</div>"
      ],
      "text/plain": [
       "   Unnamed: 0    Year         Player Pos     2P    2PA       2P%  \\\n",
       "0          11  1950.0    Nelson Bobb  PG   80.0  248.0  0.322581   \n",
       "1          32  1950.0      Al Cervi*  PG  143.0  431.0  0.331787   \n",
       "2          49  1950.0    Bob Davies*  PG  317.0  887.0  0.357384   \n",
       "3         108  1950.0   Red Holzman*  PG  206.0  625.0  0.329600   \n",
       "4         114  1950.0  Ralph Johnson  PG  243.0  779.0  0.311938   \n",
       "\n",
       "   2P%_estimate     a_i     b_i       low      high  \n",
       "0      0.340827  100.52  194.41  0.287892  0.395806  \n",
       "1      0.342142  163.52  314.41  0.300301  0.385235  \n",
       "2      0.361398  337.52  596.41  0.330893  0.392465  \n",
       "3      0.337118  226.52  445.41  0.301874  0.373281  \n",
       "4      0.319059  263.52  562.41  0.287715  0.351232  "
      ]
     },
     "execution_count": 5,
     "metadata": {},
     "output_type": "execute_result"
    }
   ],
   "source": [
    "# Calculate the credible interval based on each player's a and b\n",
    "# We set a credible interval at 95%.\n",
    "df['a_i'] = df.loc[: ,'2P'] + a\n",
    "df['b_i'] = df.loc[: ,'2PA']-df.loc[: ,'2P'] + b\n",
    "df['low'] = df.apply(lambda x: beta.ppf(0.025, x.a_i, x.b_i, loc=0, scale=1), axis = 1)\n",
    "df['high'] = df.apply(lambda x: beta.ppf(0.975, x.a_i, x.b_i, loc=0, scale=1), axis = 1)\n",
    "df.head()"
   ]
  },
  {
   "cell_type": "code",
   "execution_count": 6,
   "metadata": {},
   "outputs": [],
   "source": [
    "# Lets select 5 players and compare their performance\n",
    "df_5 = df.iloc[[1,200,800,2000,4000], :]\n",
    "# Calculate interviels.\n",
    "error = df_5 \\\n",
    "    .loc[:, ['2P%_estimate', 'low','high']]\n",
    "error['low'] = error.loc[:, 'low'] - error.loc[:, '2P%_estimate']\n",
    "error['high'] = error.loc[:, 'high'] - error.loc[:, '2P%_estimate']\n",
    "error = error.loc[:, ['low','high']]"
   ]
  },
  {
   "cell_type": "code",
   "execution_count": 12,
   "metadata": {
    "scrolled": false
   },
   "outputs": [
    {
     "data": {
      "image/png": "[encoded data removed]",
      "text/plain": [
       "<Figure size 720x576 with 1 Axes>"
      ]
     },
     "metadata": {
      "needs_background": "light"
     },
     "output_type": "display_data"
    }
   ],
   "source": [
    "# Plot the credible intervals\n",
    "fig,ax = plt.subplots(figsize=(10, 8))\n",
    "\n",
    "df_5 \\\n",
    "    .set_index('Player') \\\n",
    "    .loc[:, '2P%_estimate'] \\\n",
    "    .plot(kind = 'barh',\n",
    "          alpha = 0,\n",
    "          ax = ax,\n",
    "          xerr = error.values.T,\n",
    "          error_kw = {'capsize':15, 'elinewidth':2})\n",
    "\n",
    "df_5 \\\n",
    "    .plot(y = 'Player',\n",
    "          x = '2P%_estimate',\n",
    "          color = 'black',\n",
    "          kind = 'scatter',\n",
    "          s = 50,\n",
    "          ax = ax)\n",
    "\n",
    "y = np.linspace(0, 5, 1000)\n",
    "x = [(a/(a+b))] * len(y)\n",
    "plt.plot(x, y, linestyle='--',color = 'red', label='Mean') \n",
    "plt.title('Estimated 2P Percentage with 95% Interval')\n",
    "legend = ax.legend(loc='lower right')\n",
    "plt.show()"
   ]
  },
  {
   "cell_type": "code",
   "execution_count": null,
   "metadata": {},
   "outputs": [],
   "source": []
  }
 ],
 "metadata": {
  "kernelspec": {
   "display_name": "Python 3",
   "language": "python",
   "name": "python3"
  },
  "language_info": {
   "codemirror_mode": {
    "name": "ipython",
    "version": 3
   },
   "file_extension": ".py",
   "mimetype": "text/x-python",
   "name": "python",
   "nbconvert_exporter": "python",
   "pygments_lexer": "ipython3",
   "version": "3.7.6"
  },
  "toc": {
   "base_numbering": 1,
   "nav_menu": {},
   "number_sections": true,
   "sideBar": true,
   "skip_h1_title": false,
   "title_cell": "Table of Contents",
   "title_sidebar": "Contents",
   "toc_cell": false,
   "toc_position": {},
   "toc_section_display": true,
   "toc_window_display": false
  }
 },
 "nbformat": 4,
 "nbformat_minor": 4
}
