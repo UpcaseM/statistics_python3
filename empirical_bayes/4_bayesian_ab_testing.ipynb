{
 "cells": [
  {
   "cell_type": "markdown",
   "metadata": {},
   "source": [
    "Who is better 2-Pointer Player: Wes Matthews in 1982 or Randy Brown in 1994?\n",
    "\n",
    "Randy Brown in 1994 has a slightly higher 2P%(0.445344) than Wes Matthews in 1982(0.444828).But can we say with confidence that his skill is actually higher, or is it possible he just got lucky a bit more often?\n",
    "\n",
    "To answer this question, we're going to look at an empirical Bayesian approach to comparing two players. We'll define the problem in terms of the difference between each player's posterior distribution, and look at four mathematical and computational strategies\n",
    "we can use to resolve this question.\n",
    "\n",
    "This is a topic of the data science field. Understanding the difference between two proportions is important in **A/B testing**. "
   ]
  },
  {
   "cell_type": "markdown",
   "metadata": {},
   "source": [
    "## Setup dataset"
   ]
  },
  {
   "cell_type": "code",
   "execution_count": 1,
   "metadata": {},
   "outputs": [],
   "source": [
    "import os\n",
    "import math\n",
    "import pandas as pd\n",
    "from scipy.stats import beta, chi2_contingency\n",
    "import scipy.special as sc\n",
    "import numpy as np\n",
    "import matplotlib.pyplot as plt\n",
    "project_dir = '/mnt/data-ubuntu/Projects/statistics_python3'\n",
    "df = pd.read_csv(project_dir + '/data/nba-players-stats/seasons_stats_pg.csv')"
   ]
  },
  {
   "cell_type": "code",
   "execution_count": 2,
   "metadata": {},
   "outputs": [
    {
     "name": "stdout",
     "output_type": "stream",
     "text": [
      "a: 23.05,b: 29.35\n"
     ]
    },
    {
     "data": {
      "text/html": [
       "<div>\n",
       "<style scoped>\n",
       "    .dataframe tbody tr th:only-of-type {\n",
       "        vertical-align: middle;\n",
       "    }\n",
       "\n",
       "    .dataframe tbody tr th {\n",
       "        vertical-align: top;\n",
       "    }\n",
       "\n",
       "    .dataframe thead th {\n",
       "        text-align: right;\n",
       "    }\n",
       "</style>\n",
       "<table border=\"1\" class=\"dataframe\">\n",
       "  <thead>\n",
       "    <tr style=\"text-align: right;\">\n",
       "      <th></th>\n",
       "      <th>Year</th>\n",
       "      <th>Player</th>\n",
       "      <th>Pos</th>\n",
       "      <th>2P</th>\n",
       "      <th>2PA</th>\n",
       "      <th>2P%</th>\n",
       "      <th>2P%_estimate</th>\n",
       "      <th>a_i</th>\n",
       "      <th>b_i</th>\n",
       "      <th>low</th>\n",
       "      <th>high</th>\n",
       "      <th>PEP</th>\n",
       "      <th>q_value</th>\n",
       "    </tr>\n",
       "  </thead>\n",
       "  <tbody>\n",
       "    <tr>\n",
       "      <th>0</th>\n",
       "      <td>1988.0</td>\n",
       "      <td>John Stockton*</td>\n",
       "      <td>PG</td>\n",
       "      <td>430.0</td>\n",
       "      <td>724.0</td>\n",
       "      <td>0.593923</td>\n",
       "      <td>0.583527</td>\n",
       "      <td>453.05</td>\n",
       "      <td>323.35</td>\n",
       "      <td>0.548679</td>\n",
       "      <td>0.617967</td>\n",
       "      <td>4.987049e-16</td>\n",
       "      <td>4.987049e-16</td>\n",
       "    </tr>\n",
       "    <tr>\n",
       "      <th>1</th>\n",
       "      <td>1996.0</td>\n",
       "      <td>Anfernee Hardaway</td>\n",
       "      <td>PG</td>\n",
       "      <td>534.0</td>\n",
       "      <td>932.0</td>\n",
       "      <td>0.572961</td>\n",
       "      <td>0.565878</td>\n",
       "      <td>557.05</td>\n",
       "      <td>427.35</td>\n",
       "      <td>0.534811</td>\n",
       "      <td>0.596690</td>\n",
       "      <td>1.130444e-15</td>\n",
       "      <td>8.145743e-16</td>\n",
       "    </tr>\n",
       "    <tr>\n",
       "      <th>2</th>\n",
       "      <td>1985.0</td>\n",
       "      <td>Magic Johnson*</td>\n",
       "      <td>PG</td>\n",
       "      <td>497.0</td>\n",
       "      <td>862.0</td>\n",
       "      <td>0.576566</td>\n",
       "      <td>0.568734</td>\n",
       "      <td>520.05</td>\n",
       "      <td>394.35</td>\n",
       "      <td>0.536516</td>\n",
       "      <td>0.600666</td>\n",
       "      <td>2.803071e-15</td>\n",
       "      <td>1.477407e-15</td>\n",
       "    </tr>\n",
       "    <tr>\n",
       "      <th>3</th>\n",
       "      <td>2006.0</td>\n",
       "      <td>Tony Parker</td>\n",
       "      <td>PG</td>\n",
       "      <td>612.0</td>\n",
       "      <td>1100.0</td>\n",
       "      <td>0.556364</td>\n",
       "      <td>0.551067</td>\n",
       "      <td>635.05</td>\n",
       "      <td>517.35</td>\n",
       "      <td>0.522284</td>\n",
       "      <td>0.579683</td>\n",
       "      <td>1.902598e-14</td>\n",
       "      <td>5.864550e-15</td>\n",
       "    </tr>\n",
       "    <tr>\n",
       "      <th>4</th>\n",
       "      <td>1984.0</td>\n",
       "      <td>Magic Johnson*</td>\n",
       "      <td>PG</td>\n",
       "      <td>435.0</td>\n",
       "      <td>751.0</td>\n",
       "      <td>0.579228</td>\n",
       "      <td>0.570139</td>\n",
       "      <td>458.05</td>\n",
       "      <td>345.35</td>\n",
       "      <td>0.535772</td>\n",
       "      <td>0.604176</td>\n",
       "      <td>6.652018e-14</td>\n",
       "      <td>1.799568e-14</td>\n",
       "    </tr>\n",
       "  </tbody>\n",
       "</table>\n",
       "</div>"
      ],
      "text/plain": [
       "     Year             Player Pos     2P     2PA       2P%  2P%_estimate  \\\n",
       "0  1988.0     John Stockton*  PG  430.0   724.0  0.593923      0.583527   \n",
       "1  1996.0  Anfernee Hardaway  PG  534.0   932.0  0.572961      0.565878   \n",
       "2  1985.0     Magic Johnson*  PG  497.0   862.0  0.576566      0.568734   \n",
       "3  2006.0        Tony Parker  PG  612.0  1100.0  0.556364      0.551067   \n",
       "4  1984.0     Magic Johnson*  PG  435.0   751.0  0.579228      0.570139   \n",
       "\n",
       "      a_i     b_i       low      high           PEP       q_value  \n",
       "0  453.05  323.35  0.548679  0.617967  4.987049e-16  4.987049e-16  \n",
       "1  557.05  427.35  0.534811  0.596690  1.130444e-15  8.145743e-16  \n",
       "2  520.05  394.35  0.536516  0.600666  2.803071e-15  1.477407e-15  \n",
       "3  635.05  517.35  0.522284  0.579683  1.902598e-14  5.864550e-15  \n",
       "4  458.05  345.35  0.535772  0.604176  6.652018e-14  1.799568e-14  "
      ]
     },
     "execution_count": 2,
     "metadata": {},
     "output_type": "execute_result"
    }
   ],
   "source": [
    "data = df.loc[:,'2P%'][(df.loc[:,'2P%']<1) & (df.loc[:,'2P%']>0)]\n",
    "beta_fit = beta.fit(data = data, floc=0, fscale=1)\n",
    "a = round(beta_fit[0], 2)\n",
    "b = round(beta_fit[1], 2)\n",
    "print(f'a: {a},b: {b}')\n",
    "df.head()"
   ]
  },
  {
   "cell_type": "markdown",
   "metadata": {},
   "source": [
    "## Comparing posterior distributions"
   ]
  },
  {
   "cell_type": "code",
   "execution_count": 3,
   "metadata": {},
   "outputs": [
    {
     "data": {
      "text/html": [
       "<div>\n",
       "<style scoped>\n",
       "    .dataframe tbody tr th:only-of-type {\n",
       "        vertical-align: middle;\n",
       "    }\n",
       "\n",
       "    .dataframe tbody tr th {\n",
       "        vertical-align: top;\n",
       "    }\n",
       "\n",
       "    .dataframe thead th {\n",
       "        text-align: right;\n",
       "    }\n",
       "</style>\n",
       "<table border=\"1\" class=\"dataframe\">\n",
       "  <thead>\n",
       "    <tr style=\"text-align: right;\">\n",
       "      <th></th>\n",
       "      <th>Year</th>\n",
       "      <th>Player</th>\n",
       "      <th>Pos</th>\n",
       "      <th>2P</th>\n",
       "      <th>2PA</th>\n",
       "      <th>2P%</th>\n",
       "      <th>2P%_estimate</th>\n",
       "      <th>a_i</th>\n",
       "      <th>b_i</th>\n",
       "      <th>low</th>\n",
       "      <th>high</th>\n",
       "      <th>PEP</th>\n",
       "      <th>q_value</th>\n",
       "    </tr>\n",
       "  </thead>\n",
       "  <tbody>\n",
       "    <tr>\n",
       "      <th>1848</th>\n",
       "      <td>1994.0</td>\n",
       "      <td>Randy Brown</td>\n",
       "      <td>PG</td>\n",
       "      <td>110.0</td>\n",
       "      <td>247.0</td>\n",
       "      <td>0.445344</td>\n",
       "      <td>0.444389</td>\n",
       "      <td>133.05</td>\n",
       "      <td>166.35</td>\n",
       "      <td>0.388590</td>\n",
       "      <td>0.500891</td>\n",
       "      <td>0.439405</td>\n",
       "      <td>0.133776</td>\n",
       "    </tr>\n",
       "    <tr>\n",
       "      <th>1849</th>\n",
       "      <td>1982.0</td>\n",
       "      <td>Wes Matthews</td>\n",
       "      <td>PG</td>\n",
       "      <td>129.0</td>\n",
       "      <td>290.0</td>\n",
       "      <td>0.444828</td>\n",
       "      <td>0.444071</td>\n",
       "      <td>152.05</td>\n",
       "      <td>190.35</td>\n",
       "      <td>0.391863</td>\n",
       "      <td>0.496899</td>\n",
       "      <td>0.439666</td>\n",
       "      <td>0.133941</td>\n",
       "    </tr>\n",
       "  </tbody>\n",
       "</table>\n",
       "</div>"
      ],
      "text/plain": [
       "        Year        Player Pos     2P    2PA       2P%  2P%_estimate     a_i  \\\n",
       "1848  1994.0   Randy Brown  PG  110.0  247.0  0.445344      0.444389  133.05   \n",
       "1849  1982.0  Wes Matthews  PG  129.0  290.0  0.444828      0.444071  152.05   \n",
       "\n",
       "         b_i       low      high       PEP   q_value  \n",
       "1848  166.35  0.388590  0.500891  0.439405  0.133776  \n",
       "1849  190.35  0.391863  0.496899  0.439666  0.133941  "
      ]
     },
     "execution_count": 3,
     "metadata": {},
     "output_type": "execute_result"
    }
   ],
   "source": [
    "#Wes Matthews in 1982 or Randy Brown in 1994\n",
    "df.iloc[[1848,1849]]"
   ]
  },
  {
   "cell_type": "markdown",
   "metadata": {},
   "source": [
    "We see that Randy Brown has a a slightly higher empirical bayes estimate(0.444389). But is he true probability of getting a goal higher?"
   ]
  },
  {
   "cell_type": "code",
   "execution_count": 4,
   "metadata": {},
   "outputs": [
    {
     "data": {
      "image/png": "[encoded data removed]",
      "text/plain": [
       "<Figure size 864x576 with 1 Axes>"
      ]
     },
     "metadata": {
      "needs_background": "light"
     },
     "output_type": "display_data"
    }
   ],
   "source": [
    "# Plot the players' posterior distributions\n",
    "fig,ax = plt.subplots(figsize=(12, 8))\n",
    "x = np.linspace(0,1,100)\n",
    "for i, p in df.iloc[[1848,1849]].iterrows():\n",
    "    a_i = p.loc['a_i']\n",
    "    b_i = p.loc['b_i']\n",
    "\n",
    "    df_temp = pd.DataFrame({'Probability': x, f'a = {a_i}, b = {b_i}': beta.pdf(x, a_i, b_i)})\n",
    "    df_temp.set_index('Probability') \\\n",
    "        .plot(ax = ax,\n",
    "              legend = True,\n",
    "              xlim = (0.2, 0.6))\n",
    "\n",
    "    plt.ylabel('Density of Beta')\n",
    "    plt.xlabel('Probliity')\n",
    "    plt.title('Posterior Distribution for Randy Brown and Wes Matthews')\n",
    "legend = ax.legend(loc='upper right')\n",
    "plt.show()\n"
   ]
  },
  {
   "cell_type": "markdown",
   "metadata": {},
   "source": [
    "Quantify the problem.\n",
    "\n",
    "We'd need to know the probability one beta distribution is greater than another.\n",
    "This question is not trivial to answer, and I'm going to illustrate four routes that\n",
    "are common lines of attack in a Bayesian problem:\n",
    "* Simulation of posterior draws\n",
    "* Numerical integration\n",
    "* Closed-form solution\n",
    "* Closed-form approximation"
   ]
  },
  {
   "cell_type": "markdown",
   "metadata": {},
   "source": [
    "### Simulation of posterior draws\n",
    "\n",
    "We could simply try simulation. We could use each player's a and b parameters, draw a million items from each of them, and compare the results."
   ]
  },
  {
   "cell_type": "code",
   "execution_count": 5,
   "metadata": {},
   "outputs": [
    {
     "name": "stdout",
     "output_type": "stream",
     "text": [
      "The probability that Randy is better than Wes is 0.5029337\n"
     ]
    }
   ],
   "source": [
    "# Let's do 1 million tests\n",
    "randy_brown = beta \\\n",
    "    .rvs(df.loc[1848,'a_i'],\n",
    "         df.loc[1848,'b_i'],\n",
    "         size=int(1e7),\n",
    "         random_state=0)\n",
    "wes_matthews = beta \\\n",
    "    .rvs(df.loc[1849,'a_i'],\n",
    "         df.loc[1849,'b_i'],\n",
    "         size=int(1e7),\n",
    "         random_state=1)\n",
    "r_w = np.mean(randy_brown > wes_matthews)\n",
    "print(f'The probability that Randy is better than Wes is {r_w}')"
   ]
  },
  {
   "cell_type": "markdown",
   "metadata": {},
   "source": [
    "### Numerical integration\n",
    "\n",
    "These two posteriors each have their own (independent) distribution, and together\n",
    "they form a joint distribution- that is, a density over particular pairs of x and y."
   ]
  },
  {
   "cell_type": "code",
   "execution_count": 6,
   "metadata": {},
   "outputs": [],
   "source": [
    "# Draw the joint distribution\n",
    "# TBD"
   ]
  },
  {
   "cell_type": "markdown",
   "metadata": {},
   "source": [
    "### Closed-form solution\n",
    "\n",
    "[This post](https://www.evanmiller.org/bayesian-ab-testing.html#binary_ab_derivation) lays out a closed-form solution Miller derived for the probability a draw from one beta distribution is greater than a draw from another."
   ]
  },
  {
   "cell_type": "code",
   "execution_count": 7,
   "metadata": {},
   "outputs": [],
   "source": [
    "def compare_two(A_a, A_b, B_a, B_b):\n",
    "    \"\"\"\n",
    "    Calcualte the probability of Beta(B_a, B_b) > Beta(A_a, A_b).\n",
    "    \"\"\"\n",
    "    total = 0\n",
    "    for i in range(int(B_a)):\n",
    "        total += np.exp(sc.betaln(A_a+i, B_b+A_b) \\\n",
    "                     - np.log(B_b+i) \\\n",
    "                     - sc.betaln(1+i, B_b) \\\n",
    "                     - sc.betaln(A_a, A_b))\n",
    "    return total"
   ]
  },
  {
   "cell_type": "code",
   "execution_count": 8,
   "metadata": {},
   "outputs": [
    {
     "name": "stdout",
     "output_type": "stream",
     "text": [
      "The probability that Randy is better than Wes is 0.4961068628930334\n"
     ]
    }
   ],
   "source": [
    "r_w = compare_two(df.loc[1848,'a_i'],\n",
    "                  df.loc[1848,'b_i'],\n",
    "                  df.loc[1849,'a_i'],\n",
    "                  df.loc[1849,'b_i'])\n",
    "print(f'The probability that Randy is better than Wes is {r_w}')"
   ]
  },
  {
   "cell_type": "markdown",
   "metadata": {},
   "source": [
    "### Closed-form approximation\n",
    "\n",
    "\n",
    "As this report points out, there's a much faster approximation we can use. Notice\n",
    "that when a and b are both fairly large, the beta starts looking a lot like a **normal\n",
    "distribution**, so much so that it can be closely approximated.\n",
    "\n",
    "But it's not recommended in our case, since the a and b are small."
   ]
  },
  {
   "cell_type": "markdown",
   "metadata": {},
   "source": [
    "## Confidence and credible intervals\n",
    "\n",
    "In classical (frequentist) statistics, we may have seen this kind of \"compare two\n",
    "proportions\" problem before, perhaps laid out as a \"contingency table\"."
   ]
  },
  {
   "cell_type": "code",
   "execution_count": 9,
   "metadata": {},
   "outputs": [
    {
     "data": {
      "text/html": [
       "<div>\n",
       "<style scoped>\n",
       "    .dataframe tbody tr th:only-of-type {\n",
       "        vertical-align: middle;\n",
       "    }\n",
       "\n",
       "    .dataframe tbody tr th {\n",
       "        vertical-align: top;\n",
       "    }\n",
       "\n",
       "    .dataframe thead th {\n",
       "        text-align: right;\n",
       "    }\n",
       "</style>\n",
       "<table border=\"1\" class=\"dataframe\">\n",
       "  <thead>\n",
       "    <tr style=\"text-align: right;\">\n",
       "      <th></th>\n",
       "      <th>Player</th>\n",
       "      <th>2P</th>\n",
       "      <th>2PA</th>\n",
       "      <th>misses</th>\n",
       "    </tr>\n",
       "  </thead>\n",
       "  <tbody>\n",
       "    <tr>\n",
       "      <th>1848</th>\n",
       "      <td>Randy Brown</td>\n",
       "      <td>110.0</td>\n",
       "      <td>247.0</td>\n",
       "      <td>137.0</td>\n",
       "    </tr>\n",
       "    <tr>\n",
       "      <th>1849</th>\n",
       "      <td>Wes Matthews</td>\n",
       "      <td>129.0</td>\n",
       "      <td>290.0</td>\n",
       "      <td>161.0</td>\n",
       "    </tr>\n",
       "  </tbody>\n",
       "</table>\n",
       "</div>"
      ],
      "text/plain": [
       "            Player     2P    2PA  misses\n",
       "1848   Randy Brown  110.0  247.0   137.0\n",
       "1849  Wes Matthews  129.0  290.0   161.0"
      ]
     },
     "execution_count": 9,
     "metadata": {},
     "output_type": "execute_result"
    }
   ],
   "source": [
    "df_chi = df.loc[[1848, 1849], ['Player', '2P', '2PA']]\n",
    "df_chi['misses'] = df_chi.loc[:, '2PA'] - df_chi.loc[:, '2P']\n",
    "df_chi"
   ]
  },
  {
   "cell_type": "markdown",
   "metadata": {},
   "source": [
    "One of the most common ways to approach these contingency table problems is with Pearson's chi-squared test"
   ]
  },
  {
   "cell_type": "code",
   "execution_count": 10,
   "metadata": {},
   "outputs": [
    {
     "name": "stdout",
     "output_type": "stream",
     "text": [
      "===Chi2 Stat===\n",
      "0.005641143665352493\n",
      "\n",
      "\n",
      "===Degrees of Freedom===\n",
      "1\n",
      "\n",
      "\n",
      "===P-Value===\n",
      "0.9401291428909169\n",
      "\n",
      "\n",
      "===Contingency Table===\n",
      "[[109.9310987 137.0689013]\n",
      " [129.0689013 160.9310987]]\n"
     ]
    }
   ],
   "source": [
    "chi2_stat, p_val, dof, ex = chi2_contingency(df_chi.loc[:,['2P', 'misses']].values)\n",
    "print(\"===Chi2 Stat===\")\n",
    "print(chi2_stat)\n",
    "print(\"\\n\")\n",
    "print(\"===Degrees of Freedom===\")\n",
    "print(dof)\n",
    "print(\"\\n\")\n",
    "print(\"===P-Value===\")\n",
    "print(p_val)\n",
    "print(\"\\n\")\n",
    "print(\"===Contingency Table===\")\n",
    "print(ex)"
   ]
  },
  {
   "cell_type": "markdown",
   "metadata": {},
   "source": [
    "We see a non-significant p-value of 0.94, indicating the test couldn't find a\n",
    "difference."
   ]
  }
 ],
 "metadata": {
  "kernelspec": {
   "display_name": "Python 3",
   "language": "python",
   "name": "python3"
  },
  "language_info": {
   "codemirror_mode": {
    "name": "ipython",
    "version": 3
   },
   "file_extension": ".py",
   "mimetype": "text/x-python",
   "name": "python",
   "nbconvert_exporter": "python",
   "pygments_lexer": "ipython3",
   "version": "3.7.6"
  },
  "toc": {
   "base_numbering": 1,
   "nav_menu": {},
   "number_sections": true,
   "sideBar": true,
   "skip_h1_title": false,
   "title_cell": "Table of Contents",
   "title_sidebar": "Contents",
   "toc_cell": false,
   "toc_position": {},
   "toc_section_display": true,
   "toc_window_display": false
  }
 },
 "nbformat": 4,
 "nbformat_minor": 4
}
